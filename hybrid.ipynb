{
 "cells": [
  {
   "cell_type": "markdown",
   "metadata": {},
   "source": [
    "# Hybrid model : rule and prediction with logistic regression"
   ]
  },
  {
   "cell_type": "code",
   "execution_count": 1,
   "metadata": {},
   "outputs": [],
   "source": [
    "import pandas as pd\n",
    "import numpy as np\n",
    "import os\n",
    "import joblib\n",
    "from data_processing import merge_title_abstract,preprocess_text_column, generate_label_and_id_mappings, apply_new_id_mapping\n",
    "from sklearn.model_selection import train_test_split\n",
    "from sklearn.multiclass import OneVsRestClassifier\n",
    "from sklearn.preprocessing import MultiLabelBinarizer\n",
    "from sklearn.linear_model import LogisticRegression\n",
    "from sklearn.feature_extraction.text import TfidfVectorizer\n",
    "from sklearn.metrics import hamming_loss,f1_score, precision_score"
   ]
  },
  {
   "cell_type": "code",
   "execution_count": 2,
   "metadata": {},
   "outputs": [],
   "source": [
    "train_base_dir = os.path.dirname('train.parquet')\n",
    "val_base_dir = os.path.dirname('val.parquet')\n",
    "train_file_path = os.path.join(train_base_dir, 'data', 'train.parquet')\n",
    "val_file_path = os.path.join(train_base_dir, 'data', 'val.parquet')\n",
    "df_train = pd.read_parquet(train_file_path)\n",
    "df_val = pd.read_parquet(val_file_path)"
   ]
  },
  {
   "cell_type": "markdown",
   "metadata": {},
   "source": [
    "### Set up for the rule"
   ]
  },
  {
   "cell_type": "markdown",
   "metadata": {},
   "source": [
    "Define the rule"
   ]
  },
  {
   "cell_type": "code",
   "execution_count": 3,
   "metadata": {},
   "outputs": [],
   "source": [
    "def rule_prediction1(df,label_new_id):\n",
    "    df_copy = df.copy()\n",
    "    nb_sample, _ = df_copy.shape\n",
    "    nb_id = len(label_new_id)\n",
    "    predictions = np.zeros((nb_sample,nb_id),dtype=int)\n",
    "    for k in range(nb_sample):\n",
    "        text = df_copy['text'].iloc[k]\n",
    "        text_lowercase = text.lower()\n",
    "        labels = list(label_new_id.keys())\n",
    "        for label in labels:\n",
    "            if label in text_lowercase:\n",
    "                id = label_new_id.get(label)\n",
    "                predictions[k][id] = 1\n",
    "    return predictions"
   ]
  },
  {
   "cell_type": "markdown",
   "metadata": {},
   "source": [
    "Merge title and abstract into one single column called 'text'"
   ]
  },
  {
   "cell_type": "code",
   "execution_count": 4,
   "metadata": {},
   "outputs": [],
   "source": [
    "df_val = merge_title_abstract(df_val)\n"
   ]
  },
  {
   "cell_type": "markdown",
   "metadata": {},
   "source": [
    "Generate a set of label-ID pairs and the old-new IDs pairs for the modified IDs"
   ]
  },
  {
   "cell_type": "code",
   "execution_count": 5,
   "metadata": {},
   "outputs": [],
   "source": [
    "label_new_id, old_new_ids = generate_label_and_id_mappings(df_train)"
   ]
  },
  {
   "cell_type": "markdown",
   "metadata": {},
   "source": [
    "Applies ID mappings to the DataFrame to create a new column with remapped IDs"
   ]
  },
  {
   "cell_type": "code",
   "execution_count": 6,
   "metadata": {},
   "outputs": [],
   "source": [
    "df_val = apply_new_id_mapping(df_val,old_new_ids)"
   ]
  },
  {
   "cell_type": "markdown",
   "metadata": {},
   "source": [
    "Result :"
   ]
  },
  {
   "cell_type": "code",
   "execution_count": 7,
   "metadata": {},
   "outputs": [
    {
     "data": {
      "text/html": [
       "<div>\n",
       "<style scoped>\n",
       "    .dataframe tbody tr th:only-of-type {\n",
       "        vertical-align: middle;\n",
       "    }\n",
       "\n",
       "    .dataframe tbody tr th {\n",
       "        vertical-align: top;\n",
       "    }\n",
       "\n",
       "    .dataframe thead th {\n",
       "        text-align: right;\n",
       "    }\n",
       "</style>\n",
       "<table border=\"1\" class=\"dataframe\">\n",
       "  <thead>\n",
       "    <tr style=\"text-align: right;\">\n",
       "      <th></th>\n",
       "      <th>bibcode</th>\n",
       "      <th>title</th>\n",
       "      <th>abstract</th>\n",
       "      <th>verified_uat_ids</th>\n",
       "      <th>verified_uat_labels</th>\n",
       "      <th>text</th>\n",
       "      <th>new_ids</th>\n",
       "    </tr>\n",
       "  </thead>\n",
       "  <tbody>\n",
       "    <tr>\n",
       "      <th>0</th>\n",
       "      <td>2020RNAAS...4..137D</td>\n",
       "      <td>Recommendations for Teaching Introductory Astr...</td>\n",
       "      <td>Colleges and universities around the world wer...</td>\n",
       "      <td>[1529, 1583, 563, 486, 1145, 74]</td>\n",
       "      <td>[solar system astronomy, stellar astronomy, ga...</td>\n",
       "      <td>Recommendations for Teaching Introductory Astr...</td>\n",
       "      <td>[1184, 1231, 416, 358, 874, 53]</td>\n",
       "    </tr>\n",
       "    <tr>\n",
       "      <th>1</th>\n",
       "      <td>2023ApJ...949..109L</td>\n",
       "      <td>The ALMA Survey of 70 μm Dark High-mass Clumps...</td>\n",
       "      <td>We present dynamical properties of 294 cores e...</td>\n",
       "      <td>[787, 1565, 1569, 732, 1302, 844, 847, 1297]</td>\n",
       "      <td>[infrared dark clouds, star forming regions, s...</td>\n",
       "      <td>The ALMA Survey of 70 μm Dark High-mass Clumps...</td>\n",
       "      <td>[587, 1215, 1219, 545, 1002, 640, 643, 997]</td>\n",
       "    </tr>\n",
       "  </tbody>\n",
       "</table>\n",
       "</div>"
      ],
      "text/plain": [
       "               bibcode                                              title  \\\n",
       "0  2020RNAAS...4..137D  Recommendations for Teaching Introductory Astr...   \n",
       "1  2023ApJ...949..109L  The ALMA Survey of 70 μm Dark High-mass Clumps...   \n",
       "\n",
       "                                            abstract  \\\n",
       "0  Colleges and universities around the world wer...   \n",
       "1  We present dynamical properties of 294 cores e...   \n",
       "\n",
       "                               verified_uat_ids  \\\n",
       "0              [1529, 1583, 563, 486, 1145, 74]   \n",
       "1  [787, 1565, 1569, 732, 1302, 844, 847, 1297]   \n",
       "\n",
       "                                 verified_uat_labels  \\\n",
       "0  [solar system astronomy, stellar astronomy, ga...   \n",
       "1  [infrared dark clouds, star forming regions, s...   \n",
       "\n",
       "                                                text  \\\n",
       "0  Recommendations for Teaching Introductory Astr...   \n",
       "1  The ALMA Survey of 70 μm Dark High-mass Clumps...   \n",
       "\n",
       "                                       new_ids  \n",
       "0              [1184, 1231, 416, 358, 874, 53]  \n",
       "1  [587, 1215, 1219, 545, 1002, 640, 643, 997]  "
      ]
     },
     "execution_count": 7,
     "metadata": {},
     "output_type": "execute_result"
    }
   ],
   "source": [
    "df_val.head(2)"
   ]
  },
  {
   "cell_type": "markdown",
   "metadata": {},
   "source": [
    "Predict"
   ]
  },
  {
   "cell_type": "code",
   "execution_count": 8,
   "metadata": {},
   "outputs": [],
   "source": [
    "predictions_rule = rule_prediction1(df_val,label_new_id)"
   ]
  },
  {
   "cell_type": "markdown",
   "metadata": {},
   "source": [
    "## Set up for the model"
   ]
  },
  {
   "cell_type": "markdown",
   "metadata": {},
   "source": [
    "Merge title and abstract into one single column called 'text'"
   ]
  },
  {
   "cell_type": "code",
   "execution_count": 9,
   "metadata": {},
   "outputs": [],
   "source": [
    "df_train = merge_title_abstract(df_train)"
   ]
  },
  {
   "cell_type": "markdown",
   "metadata": {},
   "source": [
    "Apply preprocess on text such as :  \n",
    "- Converts to lowercase\n",
    "- Removes special characters\n",
    "- Removes stop words\n",
    "- Lemmatizes the text"
   ]
  },
  {
   "cell_type": "code",
   "execution_count": 10,
   "metadata": {},
   "outputs": [
    {
     "name": "stderr",
     "output_type": "stream",
     "text": [
      "[nltk_data] Downloading package stopwords to\n",
      "[nltk_data]     C:\\Users\\reali\\AppData\\Roaming\\nltk_data...\n",
      "[nltk_data]   Package stopwords is already up-to-date!\n",
      "[nltk_data] Downloading package wordnet to\n",
      "[nltk_data]     C:\\Users\\reali\\AppData\\Roaming\\nltk_data...\n",
      "[nltk_data]   Package wordnet is already up-to-date!\n",
      "[nltk_data] Downloading package omw-1.4 to\n",
      "[nltk_data]     C:\\Users\\reali\\AppData\\Roaming\\nltk_data...\n",
      "[nltk_data]   Package omw-1.4 is already up-to-date!\n"
     ]
    }
   ],
   "source": [
    "df_train = preprocess_text_column(df_train)"
   ]
  },
  {
   "cell_type": "markdown",
   "metadata": {},
   "source": [
    "Applies ID mappings to the DataFrame to create a new column with remapped IDs"
   ]
  },
  {
   "cell_type": "code",
   "execution_count": 11,
   "metadata": {},
   "outputs": [],
   "source": [
    "df_train = apply_new_id_mapping(df_train,old_new_ids)"
   ]
  },
  {
   "cell_type": "markdown",
   "metadata": {},
   "source": [
    "Result :"
   ]
  },
  {
   "cell_type": "code",
   "execution_count": 12,
   "metadata": {},
   "outputs": [
    {
     "data": {
      "text/html": [
       "<div>\n",
       "<style scoped>\n",
       "    .dataframe tbody tr th:only-of-type {\n",
       "        vertical-align: middle;\n",
       "    }\n",
       "\n",
       "    .dataframe tbody tr th {\n",
       "        vertical-align: top;\n",
       "    }\n",
       "\n",
       "    .dataframe thead th {\n",
       "        text-align: right;\n",
       "    }\n",
       "</style>\n",
       "<table border=\"1\" class=\"dataframe\">\n",
       "  <thead>\n",
       "    <tr style=\"text-align: right;\">\n",
       "      <th></th>\n",
       "      <th>bibcode</th>\n",
       "      <th>title</th>\n",
       "      <th>abstract</th>\n",
       "      <th>verified_uat_ids</th>\n",
       "      <th>verified_uat_labels</th>\n",
       "      <th>text</th>\n",
       "      <th>new_ids</th>\n",
       "    </tr>\n",
       "  </thead>\n",
       "  <tbody>\n",
       "    <tr>\n",
       "      <th>0</th>\n",
       "      <td>2020ApJ...891..100S</td>\n",
       "      <td>Dynamic Potential Sputtering of Lunar Analog M...</td>\n",
       "      <td>Pyroxenes ((Ca, Mg, Fe, Mn)&lt;SUB&gt;2&lt;/SUB&gt;Si&lt;SUB&gt;...</td>\n",
       "      <td>[1534, 499, 1692, 948, 1024, 2004]</td>\n",
       "      <td>[solar wind, exosphere, the moon, lunar compos...</td>\n",
       "      <td>ynamic otential puttering unar nalog aterial o...</td>\n",
       "      <td>[1189, 371, 1316, 714, 772, 1575]</td>\n",
       "    </tr>\n",
       "    <tr>\n",
       "      <th>1</th>\n",
       "      <td>2024ApJ...966L...8B</td>\n",
       "      <td>Generation of Low-inclination, Neptune-crossin...</td>\n",
       "      <td>The solar system's distant reaches exhibit a w...</td>\n",
       "      <td>[1705, 1184, 2293]</td>\n",
       "      <td>[trans-neptunian objects, orbits, solar system...</td>\n",
       "      <td>eneration ow-inclination eptune-crossing rans-...</td>\n",
       "      <td>[1329, 909, 1827]</td>\n",
       "    </tr>\n",
       "  </tbody>\n",
       "</table>\n",
       "</div>"
      ],
      "text/plain": [
       "               bibcode                                              title  \\\n",
       "0  2020ApJ...891..100S  Dynamic Potential Sputtering of Lunar Analog M...   \n",
       "1  2024ApJ...966L...8B  Generation of Low-inclination, Neptune-crossin...   \n",
       "\n",
       "                                            abstract  \\\n",
       "0  Pyroxenes ((Ca, Mg, Fe, Mn)<SUB>2</SUB>Si<SUB>...   \n",
       "1  The solar system's distant reaches exhibit a w...   \n",
       "\n",
       "                     verified_uat_ids  \\\n",
       "0  [1534, 499, 1692, 948, 1024, 2004]   \n",
       "1                  [1705, 1184, 2293]   \n",
       "\n",
       "                                 verified_uat_labels  \\\n",
       "0  [solar wind, exosphere, the moon, lunar compos...   \n",
       "1  [trans-neptunian objects, orbits, solar system...   \n",
       "\n",
       "                                                text  \\\n",
       "0  ynamic otential puttering unar nalog aterial o...   \n",
       "1  eneration ow-inclination eptune-crossing rans-...   \n",
       "\n",
       "                             new_ids  \n",
       "0  [1189, 371, 1316, 714, 772, 1575]  \n",
       "1                  [1329, 909, 1827]  "
      ]
     },
     "execution_count": 12,
     "metadata": {},
     "output_type": "execute_result"
    }
   ],
   "source": [
    "df_train.head(2)"
   ]
  },
  {
   "cell_type": "markdown",
   "metadata": {},
   "source": [
    "Vectorize with the best model obtained"
   ]
  },
  {
   "cell_type": "code",
   "execution_count": 13,
   "metadata": {},
   "outputs": [],
   "source": [
    "# Case 3 : TFIDF with only 10 000 max feature and excludes terms present in more than 80% / terms present in less than 1% of samples\n",
    "vectorizer3 = TfidfVectorizer(\n",
    "    max_features=10000,\n",
    "    max_df=0.8,\n",
    "    min_df=0.01\n",
    ")\n",
    "TFIDF3 = vectorizer3.fit_transform(df_train['text'])"
   ]
  },
  {
   "cell_type": "markdown",
   "metadata": {},
   "source": [
    "Split"
   ]
  },
  {
   "cell_type": "code",
   "execution_count": 14,
   "metadata": {},
   "outputs": [],
   "source": [
    "X_train, X_test, y_train, y_test = train_test_split(TFIDF3, df_train['new_ids'], test_size=0.2, random_state=42)\n"
   ]
  },
  {
   "cell_type": "markdown",
   "metadata": {},
   "source": [
    "Convert y_train and y_test into binary matrix of size n x m such as :  \n",
    "- n : is the number of sample\n",
    "- m : is the number of label"
   ]
  },
  {
   "cell_type": "code",
   "execution_count": 15,
   "metadata": {},
   "outputs": [],
   "source": [
    "all_classes = sorted({id_ for ids in df_train['new_ids'] for id_ in ids})\n",
    "mlb = MultiLabelBinarizer(classes=all_classes)\n",
    "y_train_matrix = mlb.fit_transform(y_train)\n",
    "y_test_matrix = mlb.transform(y_test)"
   ]
  },
  {
   "cell_type": "code",
   "execution_count": 16,
   "metadata": {},
   "outputs": [
    {
     "name": "stderr",
     "output_type": "stream",
     "text": [
      "C:\\Users\\reali\\AppData\\Local\\Packages\\PythonSoftwareFoundation.Python.3.11_qbz5n2kfra8p0\\LocalCache\\local-packages\\Python311\\site-packages\\sklearn\\multiclass.py:90: UserWarning: Label not 1 is present in all training examples.\n",
      "  warnings.warn(\n",
      "C:\\Users\\reali\\AppData\\Local\\Packages\\PythonSoftwareFoundation.Python.3.11_qbz5n2kfra8p0\\LocalCache\\local-packages\\Python311\\site-packages\\sklearn\\multiclass.py:90: UserWarning: Label not 60 is present in all training examples.\n",
      "  warnings.warn(\n",
      "C:\\Users\\reali\\AppData\\Local\\Packages\\PythonSoftwareFoundation.Python.3.11_qbz5n2kfra8p0\\LocalCache\\local-packages\\Python311\\site-packages\\sklearn\\multiclass.py:90: UserWarning: Label not 140 is present in all training examples.\n",
      "  warnings.warn(\n",
      "C:\\Users\\reali\\AppData\\Local\\Packages\\PythonSoftwareFoundation.Python.3.11_qbz5n2kfra8p0\\LocalCache\\local-packages\\Python311\\site-packages\\sklearn\\multiclass.py:90: UserWarning: Label not 148 is present in all training examples.\n",
      "  warnings.warn(\n",
      "C:\\Users\\reali\\AppData\\Local\\Packages\\PythonSoftwareFoundation.Python.3.11_qbz5n2kfra8p0\\LocalCache\\local-packages\\Python311\\site-packages\\sklearn\\multiclass.py:90: UserWarning: Label not 170 is present in all training examples.\n",
      "  warnings.warn(\n",
      "C:\\Users\\reali\\AppData\\Local\\Packages\\PythonSoftwareFoundation.Python.3.11_qbz5n2kfra8p0\\LocalCache\\local-packages\\Python311\\site-packages\\sklearn\\multiclass.py:90: UserWarning: Label not 257 is present in all training examples.\n",
      "  warnings.warn(\n",
      "C:\\Users\\reali\\AppData\\Local\\Packages\\PythonSoftwareFoundation.Python.3.11_qbz5n2kfra8p0\\LocalCache\\local-packages\\Python311\\site-packages\\sklearn\\multiclass.py:90: UserWarning: Label not 288 is present in all training examples.\n",
      "  warnings.warn(\n",
      "C:\\Users\\reali\\AppData\\Local\\Packages\\PythonSoftwareFoundation.Python.3.11_qbz5n2kfra8p0\\LocalCache\\local-packages\\Python311\\site-packages\\sklearn\\multiclass.py:90: UserWarning: Label not 305 is present in all training examples.\n",
      "  warnings.warn(\n",
      "C:\\Users\\reali\\AppData\\Local\\Packages\\PythonSoftwareFoundation.Python.3.11_qbz5n2kfra8p0\\LocalCache\\local-packages\\Python311\\site-packages\\sklearn\\multiclass.py:90: UserWarning: Label not 497 is present in all training examples.\n",
      "  warnings.warn(\n",
      "C:\\Users\\reali\\AppData\\Local\\Packages\\PythonSoftwareFoundation.Python.3.11_qbz5n2kfra8p0\\LocalCache\\local-packages\\Python311\\site-packages\\sklearn\\multiclass.py:90: UserWarning: Label not 510 is present in all training examples.\n",
      "  warnings.warn(\n",
      "C:\\Users\\reali\\AppData\\Local\\Packages\\PythonSoftwareFoundation.Python.3.11_qbz5n2kfra8p0\\LocalCache\\local-packages\\Python311\\site-packages\\sklearn\\multiclass.py:90: UserWarning: Label not 512 is present in all training examples.\n",
      "  warnings.warn(\n",
      "C:\\Users\\reali\\AppData\\Local\\Packages\\PythonSoftwareFoundation.Python.3.11_qbz5n2kfra8p0\\LocalCache\\local-packages\\Python311\\site-packages\\sklearn\\multiclass.py:90: UserWarning: Label not 540 is present in all training examples.\n",
      "  warnings.warn(\n",
      "C:\\Users\\reali\\AppData\\Local\\Packages\\PythonSoftwareFoundation.Python.3.11_qbz5n2kfra8p0\\LocalCache\\local-packages\\Python311\\site-packages\\sklearn\\multiclass.py:90: UserWarning: Label not 559 is present in all training examples.\n",
      "  warnings.warn(\n",
      "C:\\Users\\reali\\AppData\\Local\\Packages\\PythonSoftwareFoundation.Python.3.11_qbz5n2kfra8p0\\LocalCache\\local-packages\\Python311\\site-packages\\sklearn\\multiclass.py:90: UserWarning: Label not 577 is present in all training examples.\n",
      "  warnings.warn(\n",
      "C:\\Users\\reali\\AppData\\Local\\Packages\\PythonSoftwareFoundation.Python.3.11_qbz5n2kfra8p0\\LocalCache\\local-packages\\Python311\\site-packages\\sklearn\\multiclass.py:90: UserWarning: Label not 676 is present in all training examples.\n",
      "  warnings.warn(\n",
      "C:\\Users\\reali\\AppData\\Local\\Packages\\PythonSoftwareFoundation.Python.3.11_qbz5n2kfra8p0\\LocalCache\\local-packages\\Python311\\site-packages\\sklearn\\multiclass.py:90: UserWarning: Label not 723 is present in all training examples.\n",
      "  warnings.warn(\n",
      "C:\\Users\\reali\\AppData\\Local\\Packages\\PythonSoftwareFoundation.Python.3.11_qbz5n2kfra8p0\\LocalCache\\local-packages\\Python311\\site-packages\\sklearn\\multiclass.py:90: UserWarning: Label not 766 is present in all training examples.\n",
      "  warnings.warn(\n",
      "C:\\Users\\reali\\AppData\\Local\\Packages\\PythonSoftwareFoundation.Python.3.11_qbz5n2kfra8p0\\LocalCache\\local-packages\\Python311\\site-packages\\sklearn\\multiclass.py:90: UserWarning: Label not 768 is present in all training examples.\n",
      "  warnings.warn(\n",
      "C:\\Users\\reali\\AppData\\Local\\Packages\\PythonSoftwareFoundation.Python.3.11_qbz5n2kfra8p0\\LocalCache\\local-packages\\Python311\\site-packages\\sklearn\\multiclass.py:90: UserWarning: Label not 791 is present in all training examples.\n",
      "  warnings.warn(\n",
      "C:\\Users\\reali\\AppData\\Local\\Packages\\PythonSoftwareFoundation.Python.3.11_qbz5n2kfra8p0\\LocalCache\\local-packages\\Python311\\site-packages\\sklearn\\multiclass.py:90: UserWarning: Label not 828 is present in all training examples.\n",
      "  warnings.warn(\n",
      "C:\\Users\\reali\\AppData\\Local\\Packages\\PythonSoftwareFoundation.Python.3.11_qbz5n2kfra8p0\\LocalCache\\local-packages\\Python311\\site-packages\\sklearn\\multiclass.py:90: UserWarning: Label not 850 is present in all training examples.\n",
      "  warnings.warn(\n",
      "C:\\Users\\reali\\AppData\\Local\\Packages\\PythonSoftwareFoundation.Python.3.11_qbz5n2kfra8p0\\LocalCache\\local-packages\\Python311\\site-packages\\sklearn\\multiclass.py:90: UserWarning: Label not 936 is present in all training examples.\n",
      "  warnings.warn(\n",
      "C:\\Users\\reali\\AppData\\Local\\Packages\\PythonSoftwareFoundation.Python.3.11_qbz5n2kfra8p0\\LocalCache\\local-packages\\Python311\\site-packages\\sklearn\\multiclass.py:90: UserWarning: Label not 978 is present in all training examples.\n",
      "  warnings.warn(\n",
      "C:\\Users\\reali\\AppData\\Local\\Packages\\PythonSoftwareFoundation.Python.3.11_qbz5n2kfra8p0\\LocalCache\\local-packages\\Python311\\site-packages\\sklearn\\multiclass.py:90: UserWarning: Label not 1051 is present in all training examples.\n",
      "  warnings.warn(\n",
      "C:\\Users\\reali\\AppData\\Local\\Packages\\PythonSoftwareFoundation.Python.3.11_qbz5n2kfra8p0\\LocalCache\\local-packages\\Python311\\site-packages\\sklearn\\multiclass.py:90: UserWarning: Label not 1081 is present in all training examples.\n",
      "  warnings.warn(\n",
      "C:\\Users\\reali\\AppData\\Local\\Packages\\PythonSoftwareFoundation.Python.3.11_qbz5n2kfra8p0\\LocalCache\\local-packages\\Python311\\site-packages\\sklearn\\multiclass.py:90: UserWarning: Label not 1123 is present in all training examples.\n",
      "  warnings.warn(\n",
      "C:\\Users\\reali\\AppData\\Local\\Packages\\PythonSoftwareFoundation.Python.3.11_qbz5n2kfra8p0\\LocalCache\\local-packages\\Python311\\site-packages\\sklearn\\multiclass.py:90: UserWarning: Label not 1130 is present in all training examples.\n",
      "  warnings.warn(\n",
      "C:\\Users\\reali\\AppData\\Local\\Packages\\PythonSoftwareFoundation.Python.3.11_qbz5n2kfra8p0\\LocalCache\\local-packages\\Python311\\site-packages\\sklearn\\multiclass.py:90: UserWarning: Label not 1281 is present in all training examples.\n",
      "  warnings.warn(\n",
      "C:\\Users\\reali\\AppData\\Local\\Packages\\PythonSoftwareFoundation.Python.3.11_qbz5n2kfra8p0\\LocalCache\\local-packages\\Python311\\site-packages\\sklearn\\multiclass.py:90: UserWarning: Label not 1308 is present in all training examples.\n",
      "  warnings.warn(\n",
      "C:\\Users\\reali\\AppData\\Local\\Packages\\PythonSoftwareFoundation.Python.3.11_qbz5n2kfra8p0\\LocalCache\\local-packages\\Python311\\site-packages\\sklearn\\multiclass.py:90: UserWarning: Label not 1341 is present in all training examples.\n",
      "  warnings.warn(\n",
      "C:\\Users\\reali\\AppData\\Local\\Packages\\PythonSoftwareFoundation.Python.3.11_qbz5n2kfra8p0\\LocalCache\\local-packages\\Python311\\site-packages\\sklearn\\multiclass.py:90: UserWarning: Label not 1366 is present in all training examples.\n",
      "  warnings.warn(\n",
      "C:\\Users\\reali\\AppData\\Local\\Packages\\PythonSoftwareFoundation.Python.3.11_qbz5n2kfra8p0\\LocalCache\\local-packages\\Python311\\site-packages\\sklearn\\multiclass.py:90: UserWarning: Label not 1423 is present in all training examples.\n",
      "  warnings.warn(\n",
      "C:\\Users\\reali\\AppData\\Local\\Packages\\PythonSoftwareFoundation.Python.3.11_qbz5n2kfra8p0\\LocalCache\\local-packages\\Python311\\site-packages\\sklearn\\multiclass.py:90: UserWarning: Label not 1432 is present in all training examples.\n",
      "  warnings.warn(\n",
      "C:\\Users\\reali\\AppData\\Local\\Packages\\PythonSoftwareFoundation.Python.3.11_qbz5n2kfra8p0\\LocalCache\\local-packages\\Python311\\site-packages\\sklearn\\multiclass.py:90: UserWarning: Label not 1520 is present in all training examples.\n",
      "  warnings.warn(\n",
      "C:\\Users\\reali\\AppData\\Local\\Packages\\PythonSoftwareFoundation.Python.3.11_qbz5n2kfra8p0\\LocalCache\\local-packages\\Python311\\site-packages\\sklearn\\multiclass.py:90: UserWarning: Label not 1521 is present in all training examples.\n",
      "  warnings.warn(\n",
      "C:\\Users\\reali\\AppData\\Local\\Packages\\PythonSoftwareFoundation.Python.3.11_qbz5n2kfra8p0\\LocalCache\\local-packages\\Python311\\site-packages\\sklearn\\multiclass.py:90: UserWarning: Label not 1523 is present in all training examples.\n",
      "  warnings.warn(\n",
      "C:\\Users\\reali\\AppData\\Local\\Packages\\PythonSoftwareFoundation.Python.3.11_qbz5n2kfra8p0\\LocalCache\\local-packages\\Python311\\site-packages\\sklearn\\multiclass.py:90: UserWarning: Label not 1670 is present in all training examples.\n",
      "  warnings.warn(\n",
      "C:\\Users\\reali\\AppData\\Local\\Packages\\PythonSoftwareFoundation.Python.3.11_qbz5n2kfra8p0\\LocalCache\\local-packages\\Python311\\site-packages\\sklearn\\multiclass.py:90: UserWarning: Label not 1773 is present in all training examples.\n",
      "  warnings.warn(\n",
      "C:\\Users\\reali\\AppData\\Local\\Packages\\PythonSoftwareFoundation.Python.3.11_qbz5n2kfra8p0\\LocalCache\\local-packages\\Python311\\site-packages\\sklearn\\multiclass.py:90: UserWarning: Label not 1776 is present in all training examples.\n",
      "  warnings.warn(\n",
      "C:\\Users\\reali\\AppData\\Local\\Packages\\PythonSoftwareFoundation.Python.3.11_qbz5n2kfra8p0\\LocalCache\\local-packages\\Python311\\site-packages\\sklearn\\multiclass.py:90: UserWarning: Label not 1850 is present in all training examples.\n",
      "  warnings.warn(\n"
     ]
    },
    {
     "data": {
      "text/html": [
       "<style>#sk-container-id-1 {\n",
       "  /* Definition of color scheme common for light and dark mode */\n",
       "  --sklearn-color-text: black;\n",
       "  --sklearn-color-line: gray;\n",
       "  /* Definition of color scheme for unfitted estimators */\n",
       "  --sklearn-color-unfitted-level-0: #fff5e6;\n",
       "  --sklearn-color-unfitted-level-1: #f6e4d2;\n",
       "  --sklearn-color-unfitted-level-2: #ffe0b3;\n",
       "  --sklearn-color-unfitted-level-3: chocolate;\n",
       "  /* Definition of color scheme for fitted estimators */\n",
       "  --sklearn-color-fitted-level-0: #f0f8ff;\n",
       "  --sklearn-color-fitted-level-1: #d4ebff;\n",
       "  --sklearn-color-fitted-level-2: #b3dbfd;\n",
       "  --sklearn-color-fitted-level-3: cornflowerblue;\n",
       "\n",
       "  /* Specific color for light theme */\n",
       "  --sklearn-color-text-on-default-background: var(--sg-text-color, var(--theme-code-foreground, var(--jp-content-font-color1, black)));\n",
       "  --sklearn-color-background: var(--sg-background-color, var(--theme-background, var(--jp-layout-color0, white)));\n",
       "  --sklearn-color-border-box: var(--sg-text-color, var(--theme-code-foreground, var(--jp-content-font-color1, black)));\n",
       "  --sklearn-color-icon: #696969;\n",
       "\n",
       "  @media (prefers-color-scheme: dark) {\n",
       "    /* Redefinition of color scheme for dark theme */\n",
       "    --sklearn-color-text-on-default-background: var(--sg-text-color, var(--theme-code-foreground, var(--jp-content-font-color1, white)));\n",
       "    --sklearn-color-background: var(--sg-background-color, var(--theme-background, var(--jp-layout-color0, #111)));\n",
       "    --sklearn-color-border-box: var(--sg-text-color, var(--theme-code-foreground, var(--jp-content-font-color1, white)));\n",
       "    --sklearn-color-icon: #878787;\n",
       "  }\n",
       "}\n",
       "\n",
       "#sk-container-id-1 {\n",
       "  color: var(--sklearn-color-text);\n",
       "}\n",
       "\n",
       "#sk-container-id-1 pre {\n",
       "  padding: 0;\n",
       "}\n",
       "\n",
       "#sk-container-id-1 input.sk-hidden--visually {\n",
       "  border: 0;\n",
       "  clip: rect(1px 1px 1px 1px);\n",
       "  clip: rect(1px, 1px, 1px, 1px);\n",
       "  height: 1px;\n",
       "  margin: -1px;\n",
       "  overflow: hidden;\n",
       "  padding: 0;\n",
       "  position: absolute;\n",
       "  width: 1px;\n",
       "}\n",
       "\n",
       "#sk-container-id-1 div.sk-dashed-wrapped {\n",
       "  border: 1px dashed var(--sklearn-color-line);\n",
       "  margin: 0 0.4em 0.5em 0.4em;\n",
       "  box-sizing: border-box;\n",
       "  padding-bottom: 0.4em;\n",
       "  background-color: var(--sklearn-color-background);\n",
       "}\n",
       "\n",
       "#sk-container-id-1 div.sk-container {\n",
       "  /* jupyter's `normalize.less` sets `[hidden] { display: none; }`\n",
       "     but bootstrap.min.css set `[hidden] { display: none !important; }`\n",
       "     so we also need the `!important` here to be able to override the\n",
       "     default hidden behavior on the sphinx rendered scikit-learn.org.\n",
       "     See: https://github.com/scikit-learn/scikit-learn/issues/21755 */\n",
       "  display: inline-block !important;\n",
       "  position: relative;\n",
       "}\n",
       "\n",
       "#sk-container-id-1 div.sk-text-repr-fallback {\n",
       "  display: none;\n",
       "}\n",
       "\n",
       "div.sk-parallel-item,\n",
       "div.sk-serial,\n",
       "div.sk-item {\n",
       "  /* draw centered vertical line to link estimators */\n",
       "  background-image: linear-gradient(var(--sklearn-color-text-on-default-background), var(--sklearn-color-text-on-default-background));\n",
       "  background-size: 2px 100%;\n",
       "  background-repeat: no-repeat;\n",
       "  background-position: center center;\n",
       "}\n",
       "\n",
       "/* Parallel-specific style estimator block */\n",
       "\n",
       "#sk-container-id-1 div.sk-parallel-item::after {\n",
       "  content: \"\";\n",
       "  width: 100%;\n",
       "  border-bottom: 2px solid var(--sklearn-color-text-on-default-background);\n",
       "  flex-grow: 1;\n",
       "}\n",
       "\n",
       "#sk-container-id-1 div.sk-parallel {\n",
       "  display: flex;\n",
       "  align-items: stretch;\n",
       "  justify-content: center;\n",
       "  background-color: var(--sklearn-color-background);\n",
       "  position: relative;\n",
       "}\n",
       "\n",
       "#sk-container-id-1 div.sk-parallel-item {\n",
       "  display: flex;\n",
       "  flex-direction: column;\n",
       "}\n",
       "\n",
       "#sk-container-id-1 div.sk-parallel-item:first-child::after {\n",
       "  align-self: flex-end;\n",
       "  width: 50%;\n",
       "}\n",
       "\n",
       "#sk-container-id-1 div.sk-parallel-item:last-child::after {\n",
       "  align-self: flex-start;\n",
       "  width: 50%;\n",
       "}\n",
       "\n",
       "#sk-container-id-1 div.sk-parallel-item:only-child::after {\n",
       "  width: 0;\n",
       "}\n",
       "\n",
       "/* Serial-specific style estimator block */\n",
       "\n",
       "#sk-container-id-1 div.sk-serial {\n",
       "  display: flex;\n",
       "  flex-direction: column;\n",
       "  align-items: center;\n",
       "  background-color: var(--sklearn-color-background);\n",
       "  padding-right: 1em;\n",
       "  padding-left: 1em;\n",
       "}\n",
       "\n",
       "\n",
       "/* Toggleable style: style used for estimator/Pipeline/ColumnTransformer box that is\n",
       "clickable and can be expanded/collapsed.\n",
       "- Pipeline and ColumnTransformer use this feature and define the default style\n",
       "- Estimators will overwrite some part of the style using the `sk-estimator` class\n",
       "*/\n",
       "\n",
       "/* Pipeline and ColumnTransformer style (default) */\n",
       "\n",
       "#sk-container-id-1 div.sk-toggleable {\n",
       "  /* Default theme specific background. It is overwritten whether we have a\n",
       "  specific estimator or a Pipeline/ColumnTransformer */\n",
       "  background-color: var(--sklearn-color-background);\n",
       "}\n",
       "\n",
       "/* Toggleable label */\n",
       "#sk-container-id-1 label.sk-toggleable__label {\n",
       "  cursor: pointer;\n",
       "  display: block;\n",
       "  width: 100%;\n",
       "  margin-bottom: 0;\n",
       "  padding: 0.5em;\n",
       "  box-sizing: border-box;\n",
       "  text-align: center;\n",
       "}\n",
       "\n",
       "#sk-container-id-1 label.sk-toggleable__label-arrow:before {\n",
       "  /* Arrow on the left of the label */\n",
       "  content: \"▸\";\n",
       "  float: left;\n",
       "  margin-right: 0.25em;\n",
       "  color: var(--sklearn-color-icon);\n",
       "}\n",
       "\n",
       "#sk-container-id-1 label.sk-toggleable__label-arrow:hover:before {\n",
       "  color: var(--sklearn-color-text);\n",
       "}\n",
       "\n",
       "/* Toggleable content - dropdown */\n",
       "\n",
       "#sk-container-id-1 div.sk-toggleable__content {\n",
       "  max-height: 0;\n",
       "  max-width: 0;\n",
       "  overflow: hidden;\n",
       "  text-align: left;\n",
       "  /* unfitted */\n",
       "  background-color: var(--sklearn-color-unfitted-level-0);\n",
       "}\n",
       "\n",
       "#sk-container-id-1 div.sk-toggleable__content.fitted {\n",
       "  /* fitted */\n",
       "  background-color: var(--sklearn-color-fitted-level-0);\n",
       "}\n",
       "\n",
       "#sk-container-id-1 div.sk-toggleable__content pre {\n",
       "  margin: 0.2em;\n",
       "  border-radius: 0.25em;\n",
       "  color: var(--sklearn-color-text);\n",
       "  /* unfitted */\n",
       "  background-color: var(--sklearn-color-unfitted-level-0);\n",
       "}\n",
       "\n",
       "#sk-container-id-1 div.sk-toggleable__content.fitted pre {\n",
       "  /* unfitted */\n",
       "  background-color: var(--sklearn-color-fitted-level-0);\n",
       "}\n",
       "\n",
       "#sk-container-id-1 input.sk-toggleable__control:checked~div.sk-toggleable__content {\n",
       "  /* Expand drop-down */\n",
       "  max-height: 200px;\n",
       "  max-width: 100%;\n",
       "  overflow: auto;\n",
       "}\n",
       "\n",
       "#sk-container-id-1 input.sk-toggleable__control:checked~label.sk-toggleable__label-arrow:before {\n",
       "  content: \"▾\";\n",
       "}\n",
       "\n",
       "/* Pipeline/ColumnTransformer-specific style */\n",
       "\n",
       "#sk-container-id-1 div.sk-label input.sk-toggleable__control:checked~label.sk-toggleable__label {\n",
       "  color: var(--sklearn-color-text);\n",
       "  background-color: var(--sklearn-color-unfitted-level-2);\n",
       "}\n",
       "\n",
       "#sk-container-id-1 div.sk-label.fitted input.sk-toggleable__control:checked~label.sk-toggleable__label {\n",
       "  background-color: var(--sklearn-color-fitted-level-2);\n",
       "}\n",
       "\n",
       "/* Estimator-specific style */\n",
       "\n",
       "/* Colorize estimator box */\n",
       "#sk-container-id-1 div.sk-estimator input.sk-toggleable__control:checked~label.sk-toggleable__label {\n",
       "  /* unfitted */\n",
       "  background-color: var(--sklearn-color-unfitted-level-2);\n",
       "}\n",
       "\n",
       "#sk-container-id-1 div.sk-estimator.fitted input.sk-toggleable__control:checked~label.sk-toggleable__label {\n",
       "  /* fitted */\n",
       "  background-color: var(--sklearn-color-fitted-level-2);\n",
       "}\n",
       "\n",
       "#sk-container-id-1 div.sk-label label.sk-toggleable__label,\n",
       "#sk-container-id-1 div.sk-label label {\n",
       "  /* The background is the default theme color */\n",
       "  color: var(--sklearn-color-text-on-default-background);\n",
       "}\n",
       "\n",
       "/* On hover, darken the color of the background */\n",
       "#sk-container-id-1 div.sk-label:hover label.sk-toggleable__label {\n",
       "  color: var(--sklearn-color-text);\n",
       "  background-color: var(--sklearn-color-unfitted-level-2);\n",
       "}\n",
       "\n",
       "/* Label box, darken color on hover, fitted */\n",
       "#sk-container-id-1 div.sk-label.fitted:hover label.sk-toggleable__label.fitted {\n",
       "  color: var(--sklearn-color-text);\n",
       "  background-color: var(--sklearn-color-fitted-level-2);\n",
       "}\n",
       "\n",
       "/* Estimator label */\n",
       "\n",
       "#sk-container-id-1 div.sk-label label {\n",
       "  font-family: monospace;\n",
       "  font-weight: bold;\n",
       "  display: inline-block;\n",
       "  line-height: 1.2em;\n",
       "}\n",
       "\n",
       "#sk-container-id-1 div.sk-label-container {\n",
       "  text-align: center;\n",
       "}\n",
       "\n",
       "/* Estimator-specific */\n",
       "#sk-container-id-1 div.sk-estimator {\n",
       "  font-family: monospace;\n",
       "  border: 1px dotted var(--sklearn-color-border-box);\n",
       "  border-radius: 0.25em;\n",
       "  box-sizing: border-box;\n",
       "  margin-bottom: 0.5em;\n",
       "  /* unfitted */\n",
       "  background-color: var(--sklearn-color-unfitted-level-0);\n",
       "}\n",
       "\n",
       "#sk-container-id-1 div.sk-estimator.fitted {\n",
       "  /* fitted */\n",
       "  background-color: var(--sklearn-color-fitted-level-0);\n",
       "}\n",
       "\n",
       "/* on hover */\n",
       "#sk-container-id-1 div.sk-estimator:hover {\n",
       "  /* unfitted */\n",
       "  background-color: var(--sklearn-color-unfitted-level-2);\n",
       "}\n",
       "\n",
       "#sk-container-id-1 div.sk-estimator.fitted:hover {\n",
       "  /* fitted */\n",
       "  background-color: var(--sklearn-color-fitted-level-2);\n",
       "}\n",
       "\n",
       "/* Specification for estimator info (e.g. \"i\" and \"?\") */\n",
       "\n",
       "/* Common style for \"i\" and \"?\" */\n",
       "\n",
       ".sk-estimator-doc-link,\n",
       "a:link.sk-estimator-doc-link,\n",
       "a:visited.sk-estimator-doc-link {\n",
       "  float: right;\n",
       "  font-size: smaller;\n",
       "  line-height: 1em;\n",
       "  font-family: monospace;\n",
       "  background-color: var(--sklearn-color-background);\n",
       "  border-radius: 1em;\n",
       "  height: 1em;\n",
       "  width: 1em;\n",
       "  text-decoration: none !important;\n",
       "  margin-left: 1ex;\n",
       "  /* unfitted */\n",
       "  border: var(--sklearn-color-unfitted-level-1) 1pt solid;\n",
       "  color: var(--sklearn-color-unfitted-level-1);\n",
       "}\n",
       "\n",
       ".sk-estimator-doc-link.fitted,\n",
       "a:link.sk-estimator-doc-link.fitted,\n",
       "a:visited.sk-estimator-doc-link.fitted {\n",
       "  /* fitted */\n",
       "  border: var(--sklearn-color-fitted-level-1) 1pt solid;\n",
       "  color: var(--sklearn-color-fitted-level-1);\n",
       "}\n",
       "\n",
       "/* On hover */\n",
       "div.sk-estimator:hover .sk-estimator-doc-link:hover,\n",
       ".sk-estimator-doc-link:hover,\n",
       "div.sk-label-container:hover .sk-estimator-doc-link:hover,\n",
       ".sk-estimator-doc-link:hover {\n",
       "  /* unfitted */\n",
       "  background-color: var(--sklearn-color-unfitted-level-3);\n",
       "  color: var(--sklearn-color-background);\n",
       "  text-decoration: none;\n",
       "}\n",
       "\n",
       "div.sk-estimator.fitted:hover .sk-estimator-doc-link.fitted:hover,\n",
       ".sk-estimator-doc-link.fitted:hover,\n",
       "div.sk-label-container:hover .sk-estimator-doc-link.fitted:hover,\n",
       ".sk-estimator-doc-link.fitted:hover {\n",
       "  /* fitted */\n",
       "  background-color: var(--sklearn-color-fitted-level-3);\n",
       "  color: var(--sklearn-color-background);\n",
       "  text-decoration: none;\n",
       "}\n",
       "\n",
       "/* Span, style for the box shown on hovering the info icon */\n",
       ".sk-estimator-doc-link span {\n",
       "  display: none;\n",
       "  z-index: 9999;\n",
       "  position: relative;\n",
       "  font-weight: normal;\n",
       "  right: .2ex;\n",
       "  padding: .5ex;\n",
       "  margin: .5ex;\n",
       "  width: min-content;\n",
       "  min-width: 20ex;\n",
       "  max-width: 50ex;\n",
       "  color: var(--sklearn-color-text);\n",
       "  box-shadow: 2pt 2pt 4pt #999;\n",
       "  /* unfitted */\n",
       "  background: var(--sklearn-color-unfitted-level-0);\n",
       "  border: .5pt solid var(--sklearn-color-unfitted-level-3);\n",
       "}\n",
       "\n",
       ".sk-estimator-doc-link.fitted span {\n",
       "  /* fitted */\n",
       "  background: var(--sklearn-color-fitted-level-0);\n",
       "  border: var(--sklearn-color-fitted-level-3);\n",
       "}\n",
       "\n",
       ".sk-estimator-doc-link:hover span {\n",
       "  display: block;\n",
       "}\n",
       "\n",
       "/* \"?\"-specific style due to the `<a>` HTML tag */\n",
       "\n",
       "#sk-container-id-1 a.estimator_doc_link {\n",
       "  float: right;\n",
       "  font-size: 1rem;\n",
       "  line-height: 1em;\n",
       "  font-family: monospace;\n",
       "  background-color: var(--sklearn-color-background);\n",
       "  border-radius: 1rem;\n",
       "  height: 1rem;\n",
       "  width: 1rem;\n",
       "  text-decoration: none;\n",
       "  /* unfitted */\n",
       "  color: var(--sklearn-color-unfitted-level-1);\n",
       "  border: var(--sklearn-color-unfitted-level-1) 1pt solid;\n",
       "}\n",
       "\n",
       "#sk-container-id-1 a.estimator_doc_link.fitted {\n",
       "  /* fitted */\n",
       "  border: var(--sklearn-color-fitted-level-1) 1pt solid;\n",
       "  color: var(--sklearn-color-fitted-level-1);\n",
       "}\n",
       "\n",
       "/* On hover */\n",
       "#sk-container-id-1 a.estimator_doc_link:hover {\n",
       "  /* unfitted */\n",
       "  background-color: var(--sklearn-color-unfitted-level-3);\n",
       "  color: var(--sklearn-color-background);\n",
       "  text-decoration: none;\n",
       "}\n",
       "\n",
       "#sk-container-id-1 a.estimator_doc_link.fitted:hover {\n",
       "  /* fitted */\n",
       "  background-color: var(--sklearn-color-fitted-level-3);\n",
       "}\n",
       "</style><div id=\"sk-container-id-1\" class=\"sk-top-container\"><div class=\"sk-text-repr-fallback\"><pre>OneVsRestClassifier(estimator=LogisticRegression())</pre><b>In a Jupyter environment, please rerun this cell to show the HTML representation or trust the notebook. <br />On GitHub, the HTML representation is unable to render, please try loading this page with nbviewer.org.</b></div><div class=\"sk-container\" hidden><div class=\"sk-item sk-dashed-wrapped\"><div class=\"sk-label-container\"><div class=\"sk-label fitted sk-toggleable\"><input class=\"sk-toggleable__control sk-hidden--visually\" id=\"sk-estimator-id-1\" type=\"checkbox\" ><label for=\"sk-estimator-id-1\" class=\"sk-toggleable__label fitted sk-toggleable__label-arrow fitted\">&nbsp;&nbsp;OneVsRestClassifier<a class=\"sk-estimator-doc-link fitted\" rel=\"noreferrer\" target=\"_blank\" href=\"https://scikit-learn.org/1.4/modules/generated/sklearn.multiclass.OneVsRestClassifier.html\">?<span>Documentation for OneVsRestClassifier</span></a><span class=\"sk-estimator-doc-link fitted\">i<span>Fitted</span></span></label><div class=\"sk-toggleable__content fitted\"><pre>OneVsRestClassifier(estimator=LogisticRegression())</pre></div> </div></div><div class=\"sk-parallel\"><div class=\"sk-parallel-item\"><div class=\"sk-item\"><div class=\"sk-label-container\"><div class=\"sk-label fitted sk-toggleable\"><input class=\"sk-toggleable__control sk-hidden--visually\" id=\"sk-estimator-id-2\" type=\"checkbox\" ><label for=\"sk-estimator-id-2\" class=\"sk-toggleable__label fitted sk-toggleable__label-arrow fitted\">estimator: LogisticRegression</label><div class=\"sk-toggleable__content fitted\"><pre>LogisticRegression()</pre></div> </div></div><div class=\"sk-serial\"><div class=\"sk-item\"><div class=\"sk-estimator fitted sk-toggleable\"><input class=\"sk-toggleable__control sk-hidden--visually\" id=\"sk-estimator-id-3\" type=\"checkbox\" ><label for=\"sk-estimator-id-3\" class=\"sk-toggleable__label fitted sk-toggleable__label-arrow fitted\">&nbsp;LogisticRegression<a class=\"sk-estimator-doc-link fitted\" rel=\"noreferrer\" target=\"_blank\" href=\"https://scikit-learn.org/1.4/modules/generated/sklearn.linear_model.LogisticRegression.html\">?<span>Documentation for LogisticRegression</span></a></label><div class=\"sk-toggleable__content fitted\"><pre>LogisticRegression()</pre></div> </div></div></div></div></div></div></div></div></div>"
      ],
      "text/plain": [
       "OneVsRestClassifier(estimator=LogisticRegression())"
      ]
     },
     "execution_count": 16,
     "metadata": {},
     "output_type": "execute_result"
    }
   ],
   "source": [
    "model = OneVsRestClassifier(LogisticRegression())\n",
    "model.fit(X_train, y_train_matrix)"
   ]
  },
  {
   "cell_type": "code",
   "execution_count": null,
   "metadata": {},
   "outputs": [
    {
     "data": {
      "text/plain": [
       "['models\\\\model3_tfidf_for_hybrid.pkl']"
      ]
     },
     "execution_count": 42,
     "metadata": {},
     "output_type": "execute_result"
    }
   ],
   "source": [
    "# joblib.dump(model, 'models\\\\model3_tfidf_for_hybrid.pkl')"
   ]
  },
  {
   "cell_type": "markdown",
   "metadata": {},
   "source": [
    "#### Adapt the val dataset to make the prediction for the model"
   ]
  },
  {
   "cell_type": "code",
   "execution_count": 17,
   "metadata": {},
   "outputs": [],
   "source": [
    "df_val = merge_title_abstract(df_val)"
   ]
  },
  {
   "cell_type": "markdown",
   "metadata": {},
   "source": [
    "Merge title and abstract into one single column called 'text'"
   ]
  },
  {
   "cell_type": "code",
   "execution_count": 18,
   "metadata": {},
   "outputs": [
    {
     "name": "stderr",
     "output_type": "stream",
     "text": [
      "[nltk_data] Downloading package stopwords to\n",
      "[nltk_data]     C:\\Users\\reali\\AppData\\Roaming\\nltk_data...\n",
      "[nltk_data]   Package stopwords is already up-to-date!\n",
      "[nltk_data] Downloading package wordnet to\n",
      "[nltk_data]     C:\\Users\\reali\\AppData\\Roaming\\nltk_data...\n",
      "[nltk_data]   Package wordnet is already up-to-date!\n",
      "[nltk_data] Downloading package omw-1.4 to\n",
      "[nltk_data]     C:\\Users\\reali\\AppData\\Roaming\\nltk_data...\n",
      "[nltk_data]   Package omw-1.4 is already up-to-date!\n"
     ]
    }
   ],
   "source": [
    "df_val = preprocess_text_column(df_val)"
   ]
  },
  {
   "cell_type": "markdown",
   "metadata": {},
   "source": [
    "Applies ID mappings to the DataFrame to create a new column with remapped IDs"
   ]
  },
  {
   "cell_type": "code",
   "execution_count": 19,
   "metadata": {},
   "outputs": [],
   "source": [
    "df_val = apply_new_id_mapping(df_val,old_new_ids)"
   ]
  },
  {
   "cell_type": "markdown",
   "metadata": {},
   "source": [
    "Vectorize"
   ]
  },
  {
   "cell_type": "code",
   "execution_count": 20,
   "metadata": {},
   "outputs": [],
   "source": [
    "TFIDF_val = vectorizer3.transform(df_val['text'])"
   ]
  },
  {
   "cell_type": "markdown",
   "metadata": {},
   "source": [
    "Predict"
   ]
  },
  {
   "cell_type": "code",
   "execution_count": 21,
   "metadata": {},
   "outputs": [],
   "source": [
    "predictions_model = model.predict(TFIDF_val)"
   ]
  },
  {
   "cell_type": "markdown",
   "metadata": {},
   "source": [
    "### HYBRID"
   ]
  },
  {
   "cell_type": "code",
   "execution_count": 22,
   "metadata": {},
   "outputs": [],
   "source": [
    "predictions_union = np.logical_or(predictions_model, predictions_rule).astype(int)"
   ]
  },
  {
   "cell_type": "markdown",
   "metadata": {},
   "source": [
    "# RESULTS"
   ]
  },
  {
   "cell_type": "markdown",
   "metadata": {},
   "source": [
    "### Independant rule result"
   ]
  },
  {
   "cell_type": "code",
   "execution_count": 26,
   "metadata": {},
   "outputs": [
    {
     "name": "stderr",
     "output_type": "stream",
     "text": [
      "C:\\Users\\reali\\AppData\\Local\\Packages\\PythonSoftwareFoundation.Python.3.11_qbz5n2kfra8p0\\LocalCache\\local-packages\\Python311\\site-packages\\sklearn\\preprocessing\\_label.py:900: UserWarning: unknown class(es) ['a stars', 'abell clusters', 'abundance ratios', 'accretion', 'active galactic nuclei', 'active galaxies', 'active solar chromosphere', 'active solar corona', 'active sun', 'agn host galaxies', 'alfven waves', 'algorithms', 'analytical mathematics', 'andromeda galaxy', 'artificial satellites', 'asteroid belt', 'asteroid dynamics', 'asteroid satellites', 'asteroid surfaces', 'asteroids', 'asteroseismology', 'astrobiology', 'astrochemistry', 'astrodynamics', 'astroinformatics', 'astrometric binary stars', 'astrometry', 'astronomical detectors', 'astronomical instrumentation', 'astronomical methods', 'astronomical models', 'astronomical simulations', 'astronomical techniques', 'astronomy data analysis', 'astronomy data modeling', 'astronomy data reduction', 'astronomy data visualization', 'astronomy databases', 'astronomy image processing', 'astronomy software', 'astrophysical black holes', 'astrophysical dust processes', 'astrophysical fluid dynamics', 'astrophysical magnetism', 'astrophysical masers', 'astrophysical processes', 'astrostatistics', 'astrostatistics strategies', 'astrostatistics techniques', 'astrostatistics tools', 'asymptotic giant branch stars', 'atmospheric circulation', 'atmospheric clouds', 'atmospheric composition', 'atmospheric effects', 'atmospheric science', 'atmospheric variability', 'atomic data benchmarking', 'atomic physics', 'atomic spectroscopy', 'barred spiral galaxies', 'bayesian statistics', 'be stars', 'binary pulsars', 'binary stars', 'biosignatures', 'bl lacertae objects', 'black hole physics', 'black holes', 'blazars', 'blue compact dwarf galaxies', 'blue straggler stars', 'bondi accretion', 'brightest cluster galaxies', 'broad band photometry', 'broad-absorption line quasar', 'brown dwarfs', 'calibration', 'carbon stars', 'carbonaceous chondrites', 'cataclysmic variable stars', 'catalogs', 'ccd photometry', 'celestial mechanics', 'centaur group', 'cepheid distance', 'cepheid variable stars', 'chemical abundances', 'chemical enrichment', 'chemically peculiar stars', 'chondrites', 'chondrules', 'circumgalactic medium', 'circumstellar disks', 'circumstellar dust', 'circumstellar envelopes', 'circumstellar gas', 'circumstellar matter', 'classical kuiper belt objects', 'classical novae', 'classical t tauri stars', 'classification', 'close binary stars', 'clustering', 'co line emission', 'cold dark matter', 'cold neutral medium', 'collapsing clouds', 'coma dust', 'comae', 'comet dynamics', 'comet nuclei', 'comet tails', 'comet volatiles', 'comets', 'common envelope binary stars', 'common envelope evolution', 'compact binary stars', 'compact galaxies', 'compact objects', 'computational astronomy', 'computational methods', 'contact binary stars', 'convolutional neural networks', 'cooling flows', 'core-collapse supernovae', 'coronagraphic imaging', 'corotating streams', 'cosmic background radiation', 'cosmic microwave background radiation', 'cosmic ray astronomy', 'cosmic ray sources', 'cosmic rays', 'cosmic web', 'cosmochemistry', 'cosmological evolution', 'cosmological models', 'cosmological neutrinos', 'cosmological parameters', 'cosmological parameters from large-scale structure', 'cosmology', 'da stars', 'dark energy', 'dark interstellar clouds', 'dark matter', 'dark matter distribution', 'debris disks', 'delta scuti variable stars', 'dense interstellar clouds', 'detached binary stars', 'diffuse interstellar clouds', 'diffuse radiation', 'diffuse x-ray background', 'direct imaging', 'disk galaxies', 'distance indicators', 'distance measure', 'dq herculis stars', 'dust continuum emission', 'dust physics', 'dwarf galaxies', 'dwarf irregular galaxies', 'dwarf novae', 'dwarf spheroidal galaxies', 'dynamical evolution', 'e+a galaxies', 'early stellar evolution', 'early universe', 'early-type galaxies', 'early-type stars', 'earth (planet)', 'earth atmosphere', 'earth-moon system', 'eccentricity', 'eclipsing binary stars', 'ejecta', 'elliptical galaxies', 'emission line galaxies', 'emission line stars', 'emission nebulae', 'europa', 'evolved stars', 'exoplanet astronomy', 'exoplanet atmospheres', 'exoplanet atmospheric composition', 'exoplanet atmospheric dynamics', 'exoplanet atmospheric evolution', 'exoplanet atmospheric structure', 'exoplanet atmospheric variability', 'exoplanet catalogs', 'exoplanet detection methods', 'exoplanet dynamics', 'exoplanet evolution', 'exoplanet formation', 'exoplanet migration', 'exoplanet structure', 'exoplanet systems', 'exoplanet tides', 'exoplanets', 'exosphere', 'experimental techniques', 'explosive nucleosynthesis', 'extinction', 'extragalactic astronomy', 'extragalactic magnetic fields', 'extragalactic radio sources', 'extrasolar gaseous giant planets', 'extrasolar gaseous planets', 'extrasolar rocky planets', 'fanaroff-riley radio galaxies', 'far infrared astronomy', 'fast solar wind', 'flare stars', 'flat-spectrum radio quasars', 'flux calibration', 'free floating planets', 'fu orionis stars', 'fundamental parameters of stars', 'gaia', 'galactic abundances', 'galactic and extragalactic astronomy', 'galactic archaeology', 'galactic bulge', 'galactic center', 'galactic cosmic rays', 'galactic radio sources', 'galactic winds', 'galaxies', 'galaxy abundances', 'galaxy accretion', 'galaxy accretion disks', 'galaxy ages', 'galaxy bulges', 'galaxy chemical evolution', 'galaxy classification systems', 'galaxy clusters', 'galaxy colors', 'galaxy counts', 'galaxy dark matter halos', 'galaxy disks', 'galaxy distances', 'galaxy dynamics', 'galaxy environments', 'galaxy evolution', 'galaxy formation', 'galaxy groups', 'galaxy interactions', 'galaxy jets', 'galaxy kinematics', 'galaxy magnetic fields', 'galaxy masses', 'galaxy mergers', 'galaxy nuclei', 'galaxy pairs', 'galaxy photometry', 'galaxy physics', 'galaxy processes', 'galaxy properties', 'galaxy quenching', 'galaxy rotation curves', 'galaxy spectroscopy', 'galaxy stellar content', 'galaxy stellar disks', 'galaxy stellar halos', 'galaxy structure', 'galaxy winds', 'galilean satellites', 'gamma-ray astronomy', 'gamma-ray bursts', 'gamma-ray sources', 'gamma-ray telescopes', 'gamma-ray transient sources', 'gamma-rays', 'gas-to-dust ratio', 'gaussian processes regression', 'general relativity', 'geomagnetic fields', 'giant molecular clouds', 'globular star clusters', 'gpu computing', 'gravitation', 'gravitational collapse', 'gravitational instability', 'gravitational interaction', 'gravitational lensing', 'gravitational microlensing', 'gravitational microlensing exoplanet detection', 'gravitational wave astronomy', 'gravitational wave detectors', 'gravitational wave sources', 'gravitational waves', 'ground-based astronomy', 'h i line emission', 'h ii regions', 'habitable planets', 'habitable zone', 'heliopause', 'helioseismology', 'heliosheath', 'heliosphere', 'herbig ae/be stars', 'hertzsprung russell diagram', 'hierarchical models', 'high angular resolution', 'high contrast techniques', 'high energy astrophysics', 'high mass x-ray binary stars', 'high resolution spectroscopy', 'high-energy cosmic radiation', 'high-redshift galaxies', 'high-redshift galaxy clusters', 'hot jupiters', 'hot neptunes', 'hst photometry', 'hubble constant', 'hubble space telescope', 'hydrodynamical simulations', 'hydrodynamics', 'impact phenomena', 'infrared astronomy', 'infrared dark clouds', 'infrared excess', 'infrared galaxies', 'infrared photometry', 'infrared sources', 'infrared spectroscopy', 'infrared telescopes', 'initial mass function', 'interacting binary stars', 'interacting galaxies', 'interdisciplinary astronomy', 'interferometers', 'interferometry', 'intergalactic medium', 'intermediate-mass black holes', 'internal waves', 'interplanetary discontinuities', 'interplanetary dust', 'interplanetary magnetic fields', 'interplanetary medium', 'interplanetary particle acceleration', 'interplanetary physics', 'interplanetary shocks', 'interplanetary turbulence', 'interstellar absorption', 'interstellar abundances', 'interstellar atomic gas', 'interstellar clouds', 'interstellar dust', 'interstellar dust extinction', 'interstellar dust processes', 'interstellar dynamics', 'interstellar emissions', 'interstellar extinction', 'interstellar filaments', 'interstellar line absorption', 'interstellar line emission', 'interstellar magnetic fields', 'interstellar masers', 'interstellar medium', 'interstellar medium wind', 'interstellar molecules', 'interstellar objects', 'interstellar phases', 'interstellar plasma', 'interstellar scattering', 'interstellar synchrotron emission', 'intracluster medium', 'ionization', 'isotopic abundances', 'james webb space telescope', 'jets', 'jovian satellites', 'jupiter', 'jupiter trojans', 'kerr black holes', 'kuiper belt', 'l dwarfs', 'laboratory astrophysics', 'large magellanic cloud', 'large-scale structure of the universe', 'late stellar evolution', 'late-type dwarf stars', 'late-type galaxies', 'late-type stars', 'light curve classification', 'light curves', 'ligo', 'line intensities', 'line positions', 'local group', 'long baseline interferometry', 'long period comets', 'low mass stars', 'low surface brightness galaxies', 'low-luminosity active galactic nuclei', 'low-mass x-ray binary stars', 'luminosity function', 'luminous infrared galaxies', 'lunar craters', 'lunar science', 'lunar surface', 'lyman alpha forest', 'lyman-alpha galaxies', 'lyman-break galaxies', 'm dwarf stars', 'm stars', 'magellanic clouds', 'magnetars', 'magnetic fields', 'magnetic stars', 'magnetohydrodynamical simulations', 'magnetohydrodynamics', 'magnetospheric radio emissions', 'main belt asteroids', 'markov chain monte carlo', 'mars', 'massive stars', 'mercury (planet)', 'mercury-manganese stars', 'metallicity', 'meteorite composition', 'meteorites', 'meteoroids', 'meteors', 'milky way dark matter halo', 'milky way disk', 'milky way dynamics', 'milky way evolution', 'milky way formation', 'milky way galaxy', 'milky way galaxy physics', 'milky way magnetic fields', 'milky way stellar halo', 'millimeter astronomy', 'millisecond pulsars', 'mini neptunes', 'mira variable stars', 'molecular clouds', 'molecular gas', 'molecular physics', 'molecular spectroscopy', 'molecule formation', 'multi-color photometry', 'multiple star evolution', 'multiple stars', 'n-body simulations', 'natural satellites (extrasolar)', 'natural satellites (solar system)', 'near infrared astronomy', 'near ultraviolet astronomy', 'near-earth objects', 'neptune', 'neural networks', 'neutral hydrogen clouds', 'neutrino astronomy', 'neutrino telescopes', 'neutron star cores', 'neutron stars', 'non-standard theories of gravity', 'non-thermal radiation sources', 'novae', 'nuclear astrophysics', 'nuclear physics', 'nucleosynthesis', 'observational astronomy', 'observational cosmology', 'ocean planets', 'open source software', 'open star clusters', 'optical astronomy', 'optical flares', 'optical interferometry', 'optical observation', 'optical telescopes', 'orbit determination', 'orbital evolution', 'orbital resonances', 'orbits', 'parallax', 'particle astrophysics', 'period search', 'periodic variable stars', 'perturbation methods', 'photodissociation regions', 'photoionization', 'photometry', 'pickup ions', 'planet formation', 'planet hosting stars', 'planetary atmospheres', 'planetary bow shocks', 'planetary climates', 'planetary dynamics', 'planetary interior', 'planetary ionospheres', 'planetary magnetospheres', 'planetary nebulae', 'planetary rings', 'planetary science', 'planetary structure', 'planetary surfaces', 'planetary system formation', 'planetary-disk interactions', 'planetesimals', 'plasma astrophysics', 'plasma jets', 'plasma physics', 'pluto', 'polarimeters', 'polarimetry', 'polycyclic aromatic hydrocarbons', 'population ii stars', 'population iii stars', 'post-asymptotic giant branch stars', 'post-starburst galaxies', 'posterior distribution', 'pre-biotic astrochemistry', 'pre-main sequence stars', 'primordial black holes', 'primordial galaxies', 'proper motions', 'protoclusters', 'protoplanetary disks', 'protostars', 'publicly available software', 'pulsar timing method', 'pulsar wind nebulae', 'pulsars', 'pulsating variable stars', 'quasar absorption line spectroscopy', 'quasars', 'quenched galaxies', 'quiet solar corona', 'quiet sun', 'r-process', 'radial velocity', 'radiative magnetohydrodynamics', 'radiative processes', 'radiative transfer', 'radiative transfer simulations', 'radio active galactic nuclei', 'radio astrometry', 'radio astronomy', 'radio bursts', 'radio continuum emission', 'radio galaxies', 'radio interferometers', 'radio interferometry', 'radio jets', 'radio loud quasars', 'radio pulsars', 'radio source catalogs', 'radio sources', 'radio spectroscopy', 'radio telescopes', 'radio transient sources', 'ram pressure stripped tails', 'random forests', 'reaction rates', 'recurrent novae', 'red giant branch', 'red giant stars', 'red supergiant stars', 'redshift surveys', 'reionization', 'relativistic disks', 'relativistic fluid dynamics', 'relativistic jets', 'remote sensing', 'reverberation mapping', 'rotation powered pulsars', 'rr lyrae variable stars', 'saturn', 'saturnian satellites', 'scaling relations', 'search for extraterrestrial intelligence', 'seyfert galaxies', 'shocks', 'short period comets', 'silicate grains', 'sky surveys', 'slow solar wind', 'small magellanic cloud', 'small solar system bodies', 'soft gamma-ray repeaters', 'solar abundances', 'solar active region magnetic fields', 'solar active regions', 'solar activity', 'solar analogs', 'solar atmosphere', 'solar chromosphere', 'solar chromospheric heating', 'solar convective zone', 'solar corona', 'solar coronal heating', 'solar coronal holes', 'solar coronal lines', 'solar coronal loops', 'solar coronal mass ejection shocks', 'solar coronal mass ejections', 'solar coronal radio emission', 'solar coronal seismology', 'solar coronal streamers', 'solar coronal transients', 'solar coronal waves', 'solar cycle', 'solar differential rotation', 'solar dynamo', 'solar electromagnetic emission', 'solar energetic particles', 'solar extreme ultraviolet emission', 'solar filament eruptions', 'solar filaments', 'solar flare spectra', 'solar flares', 'solar instruments', 'solar interior', 'solar magnetic fields', 'solar magnetic flux emergence', 'solar magnetic reconnection', 'solar neighborhood', 'solar oscillations', 'solar particle emission', 'solar photosphere', 'solar physics', 'solar prominences', 'solar radio emission', 'solar radio flares', 'solar rotation', 'solar spectral irradiance', 'solar spicules', 'solar storm', 'solar system', 'solar system astronomy', 'solar system formation', 'solar system gas giant planets', 'solar system planets', 'solar system terrestrial planets', 'solar transition region', 'solar ultraviolet emission', 'solar wind', 'solar x-ray emission', 'solar x-ray flares', 'solar-planetary interactions', 'solar-terrestrial interactions', 'space observatories', 'space plasmas', 'space telescopes', 'space vehicle instruments', 'space weather', 'speckle interferometry', 'spectral energy distribution', 'spectral index', 'spectral line identification', 'spectral line lists', 'spectrometers', 'spectrophotometry', 'spectropolarimetry', 'spectroscopic binary stars', 'spectroscopy', 'spiral arms', 'spiral galaxies', 'star clusters', 'star formation', 'star forming regions', 'star-planet interactions', 'starburst galaxies', 'starlight polarization', 'starspots', 'stellar abundances', 'stellar accretion', 'stellar accretion disks', 'stellar activity', 'stellar ages', 'stellar associations', 'stellar astronomy', 'stellar atmospheres', 'stellar chromospheres', 'stellar classification', 'stellar convective zones', 'stellar coronae', 'stellar coronal mass ejections', 'stellar distance', 'stellar dynamics', 'stellar evolution', 'stellar evolutionary models', 'stellar feedback', 'stellar flares', 'stellar interiors', 'stellar jets', 'stellar kinematics', 'stellar magnetic fields', 'stellar mass black holes', 'stellar mass functions', 'stellar mass loss', 'stellar masses', 'stellar mergers', 'stellar nucleosynthesis', 'stellar oscillations', 'stellar photometry', 'stellar physics', 'stellar populations', 'stellar properties', 'stellar pulsations', 'stellar rotation', 'stellar spectral lines', 'stellar streams', 'stellar structures', 'stellar wind bubbles', 'stellar winds', 'stellar x-ray flares', 'stellar-interstellar interactions', 'strong gravitational lensing', 'submillimeter astronomy', 'substellar companion stars', 'sunspot cycle', 'sunspot groups', 'sunspot number', 'sunspots', 'sunyaev-zeldovich effect', 'super earths', 'superbubbles', 'supergiant stars', 'supermassive black holes', 'supernova dynamics', 'supernova neutrinos', 'supernova remnants', 'supernovae', 'surface composition', 'surface ices', 'surface processes', 'surveys', 'symbiotic binary stars', 't dwarfs', 't tauri stars', 'technosignatures', 'telescopes', 'termination shock', 'the moon', 'the sun', 'theoretical models', 'three-body problem', 'tidal disruption', 'tidal interaction', 'tidal tails', 'tides', 'time domain astronomy', 'time series analysis', 'titan', 'trans-neptunian objects', 'transient detection', 'transient sources', 'transit photometry', 'transit timing variation method', 'transits', 'transmission spectroscopy', 'triangulum galaxy', 'trinary stars', 'type ia supernovae', 'type ib supernovae', 'type ic supernovae', 'type ii supernovae', 'ultra-high-energy cosmic radiation', 'ultraluminous infrared galaxies', 'ultraluminous x-ray sources', 'ultraviolet astronomy', 'ultraviolet photometry', 'ultraviolet spectroscopy', 'ultraviolet transient sources', 'uranian satellites', 'uranus', 'variable stars', 'venus', 'very long baseline interferometry', 'virgo cluster', 'visual binary stars', 'voids', 'warm ionized medium', 'water vapor', 'wavelet analysis', 'weak gravitational lensing', 'white dwarf stars', 'wide binary stars', 'wide-field telescopes', 'wolf-rayet stars', 'x-ray active galactic nuclei', 'x-ray astronomy', 'x-ray binary stars', 'x-ray bursts', 'x-ray detectors', 'x-ray observatories', 'x-ray point sources', 'x-ray quasars', 'x-ray sources', 'x-ray stars', 'x-ray surveys', 'x-ray telescopes', 'x-ray transient sources', 'y dwarfs', 'young massive clusters', 'young star clusters', 'young stellar objects', 'zodiacal cloud'] will be ignored\n",
      "  warnings.warn(\n"
     ]
    }
   ],
   "source": [
    "y_test_rule = df_val['verified_uat_labels']\n",
    "all_classes = sorted({id_ for ids in df_train['new_ids'] for id_ in ids})\n",
    "mlb = MultiLabelBinarizer(classes=all_classes)\n",
    "y_test_rule_matrix = mlb.fit_transform(y_test_rule)"
   ]
  },
  {
   "cell_type": "markdown",
   "metadata": {},
   "source": [
    "f1 score"
   ]
  },
  {
   "cell_type": "code",
   "execution_count": 27,
   "metadata": {},
   "outputs": [
    {
     "name": "stdout",
     "output_type": "stream",
     "text": [
      "Exact Match f1_score for rule : 0.0\n"
     ]
    },
    {
     "name": "stderr",
     "output_type": "stream",
     "text": [
      "C:\\Users\\reali\\AppData\\Local\\Packages\\PythonSoftwareFoundation.Python.3.11_qbz5n2kfra8p0\\LocalCache\\local-packages\\Python311\\site-packages\\sklearn\\metrics\\_classification.py:1509: UndefinedMetricWarning: F-score is ill-defined and being set to 0.0 in samples with no true nor predicted labels. Use `zero_division` parameter to control this behavior.\n",
      "  _warn_prf(average, modifier, f\"{metric.capitalize()} is\", len(result))\n"
     ]
    }
   ],
   "source": [
    "f1 = f1_score(y_test_rule_matrix, predictions_rule,average='samples')\n",
    "print(\"Exact Match f1_score for rule :\", f1)"
   ]
  },
  {
   "cell_type": "markdown",
   "metadata": {},
   "source": [
    "hamming loss"
   ]
  },
  {
   "cell_type": "code",
   "execution_count": null,
   "metadata": {},
   "outputs": [
    {
     "name": "stdout",
     "output_type": "stream",
     "text": [
      "Exact Match hamming_loss for rule: 0.0029766254034689463\n"
     ]
    }
   ],
   "source": [
    "loss = hamming_loss(y_test_rule_matrix, predictions_rule)\n",
    "print(\"Exact Match hamming_loss for rule:\", loss)"
   ]
  },
  {
   "cell_type": "markdown",
   "metadata": {},
   "source": [
    "precision"
   ]
  },
  {
   "cell_type": "code",
   "execution_count": null,
   "metadata": {},
   "outputs": [
    {
     "name": "stdout",
     "output_type": "stream",
     "text": [
      "Exact Match precision_score for rule : 0.0\n"
     ]
    },
    {
     "name": "stderr",
     "output_type": "stream",
     "text": [
      "C:\\Users\\reali\\AppData\\Local\\Packages\\PythonSoftwareFoundation.Python.3.11_qbz5n2kfra8p0\\LocalCache\\local-packages\\Python311\\site-packages\\sklearn\\metrics\\_classification.py:1509: UndefinedMetricWarning: Precision is ill-defined and being set to 0.0 in samples with no predicted labels. Use `zero_division` parameter to control this behavior.\n",
      "  _warn_prf(average, modifier, f\"{metric.capitalize()} is\", len(result))\n"
     ]
    }
   ],
   "source": [
    "precision = precision_score(y_test_rule_matrix, predictions_rule,average='samples')\n",
    "print(\"Exact Match precision_score for rule :\", precision)"
   ]
  },
  {
   "cell_type": "markdown",
   "metadata": {},
   "source": [
    "### Independant model result"
   ]
  },
  {
   "cell_type": "code",
   "execution_count": 33,
   "metadata": {},
   "outputs": [],
   "source": [
    "y_test_model = df_val['new_ids']\n",
    "all_classes = sorted({id_ for ids in df_train['new_ids'] for id_ in ids})\n",
    "mlb = MultiLabelBinarizer(classes=all_classes)\n",
    "y_test_model_matrix = mlb.fit_transform(y_test_model)"
   ]
  },
  {
   "cell_type": "markdown",
   "metadata": {},
   "source": [
    "f1 score"
   ]
  },
  {
   "cell_type": "code",
   "execution_count": 34,
   "metadata": {},
   "outputs": [
    {
     "name": "stdout",
     "output_type": "stream",
     "text": [
      "Exact Match f1_score for model : 0.12873463359413773\n"
     ]
    }
   ],
   "source": [
    "f1 = f1_score(y_test_model_matrix, predictions_model,average='samples')\n",
    "print(\"Exact Match f1_score for model :\", f1)"
   ]
  },
  {
   "cell_type": "markdown",
   "metadata": {},
   "source": [
    "hamming loss"
   ]
  },
  {
   "cell_type": "code",
   "execution_count": 35,
   "metadata": {},
   "outputs": [
    {
     "name": "stdout",
     "output_type": "stream",
     "text": [
      "Exact Match hamming_loss for model : 0.0022425779448799346\n"
     ]
    }
   ],
   "source": [
    "loss = hamming_loss(y_test_model_matrix, predictions_model)\n",
    "print(\"Exact Match hamming_loss for model :\", loss)"
   ]
  },
  {
   "cell_type": "markdown",
   "metadata": {},
   "source": [
    "precision"
   ]
  },
  {
   "cell_type": "code",
   "execution_count": 36,
   "metadata": {},
   "outputs": [
    {
     "name": "stdout",
     "output_type": "stream",
     "text": [
      "Exact Match precision_score for model : 0.26910192837465563\n"
     ]
    },
    {
     "name": "stderr",
     "output_type": "stream",
     "text": [
      "C:\\Users\\reali\\AppData\\Local\\Packages\\PythonSoftwareFoundation.Python.3.11_qbz5n2kfra8p0\\LocalCache\\local-packages\\Python311\\site-packages\\sklearn\\metrics\\_classification.py:1509: UndefinedMetricWarning: Precision is ill-defined and being set to 0.0 in samples with no predicted labels. Use `zero_division` parameter to control this behavior.\n",
      "  _warn_prf(average, modifier, f\"{metric.capitalize()} is\", len(result))\n"
     ]
    }
   ],
   "source": [
    "precision = precision_score(y_test_model_matrix, predictions_model,average='samples')\n",
    "print(\"Exact Match precision_score for model :\", precision)"
   ]
  },
  {
   "cell_type": "markdown",
   "metadata": {},
   "source": [
    "## Hybrid (rule + model) result"
   ]
  },
  {
   "cell_type": "code",
   "execution_count": 37,
   "metadata": {},
   "outputs": [],
   "source": [
    "y_test_val = df_val['new_ids']\n",
    "all_classes = sorted({id_ for ids in df_train['new_ids'] for id_ in ids})\n",
    "mlb = MultiLabelBinarizer(classes=all_classes)\n",
    "y_test_val_matrix = mlb.fit_transform(y_test_val)"
   ]
  },
  {
   "cell_type": "markdown",
   "metadata": {},
   "source": [
    "f1 score"
   ]
  },
  {
   "cell_type": "code",
   "execution_count": 38,
   "metadata": {},
   "outputs": [
    {
     "name": "stdout",
     "output_type": "stream",
     "text": [
      "Exact Match f1_score for hybrid: 0.1977049205307416\n"
     ]
    }
   ],
   "source": [
    "f1 = f1_score(y_test_val_matrix, predictions_union,average='samples')\n",
    "print(\"Exact Match f1_score for hybrid:\", f1)"
   ]
  },
  {
   "cell_type": "markdown",
   "metadata": {},
   "source": [
    "hamming loss"
   ]
  },
  {
   "cell_type": "code",
   "execution_count": 39,
   "metadata": {},
   "outputs": [
    {
     "name": "stdout",
     "output_type": "stream",
     "text": [
      "Exact Match hamming_loss for hybrid : 0.0043478877735608126\n"
     ]
    }
   ],
   "source": [
    "loss = hamming_loss(y_test_val_matrix, predictions_union)\n",
    "print(\"Exact Match hamming_loss for hybrid :\", loss)"
   ]
  },
  {
   "cell_type": "markdown",
   "metadata": {},
   "source": [
    "precision"
   ]
  },
  {
   "cell_type": "code",
   "execution_count": 40,
   "metadata": {},
   "outputs": [
    {
     "name": "stdout",
     "output_type": "stream",
     "text": [
      "Exact Match precision_score for ybrid : 0.18360071653137694\n"
     ]
    },
    {
     "name": "stderr",
     "output_type": "stream",
     "text": [
      "C:\\Users\\reali\\AppData\\Local\\Packages\\PythonSoftwareFoundation.Python.3.11_qbz5n2kfra8p0\\LocalCache\\local-packages\\Python311\\site-packages\\sklearn\\metrics\\_classification.py:1509: UndefinedMetricWarning: Precision is ill-defined and being set to 0.0 in samples with no predicted labels. Use `zero_division` parameter to control this behavior.\n",
      "  _warn_prf(average, modifier, f\"{metric.capitalize()} is\", len(result))\n"
     ]
    }
   ],
   "source": [
    "precision = precision_score(y_test_val_matrix, predictions_union,average='samples')\n",
    "print(\"Exact Match precision_score for ybrid :\", precision)"
   ]
  }
 ],
 "metadata": {
  "kernelspec": {
   "display_name": "Python 3",
   "language": "python",
   "name": "python3"
  },
  "language_info": {
   "codemirror_mode": {
    "name": "ipython",
    "version": 3
   },
   "file_extension": ".py",
   "mimetype": "text/x-python",
   "name": "python",
   "nbconvert_exporter": "python",
   "pygments_lexer": "ipython3",
   "version": "3.11.9"
  }
 },
 "nbformat": 4,
 "nbformat_minor": 2
}

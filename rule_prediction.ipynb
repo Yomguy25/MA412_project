{
 "cells": [
  {
   "cell_type": "markdown",
   "metadata": {},
   "source": [
    "# Rule prediction"
   ]
  },
  {
   "cell_type": "code",
   "execution_count": 19,
   "metadata": {},
   "outputs": [],
   "source": [
    "import pandas as pd\n",
    "import numpy as np\n",
    "import os\n",
    "from data_processing import merge_title_abstract, generate_label_and_id_mappings, apply_new_id_mapping\n",
    "from sklearn.preprocessing import MultiLabelBinarizer\n",
    "from sklearn.metrics import f1_score, hamming_loss, accuracy_score,precision_score"
   ]
  },
  {
   "cell_type": "markdown",
   "metadata": {},
   "source": [
    "### Load the dataset"
   ]
  },
  {
   "cell_type": "code",
   "execution_count": 20,
   "metadata": {},
   "outputs": [],
   "source": [
    "base_dir = os.path.dirname('train.parquet')\n",
    "file_path = os.path.join(base_dir, 'data', 'train.parquet')\n",
    "df = pd.read_parquet(file_path)\n"
   ]
  },
  {
   "cell_type": "code",
   "execution_count": 21,
   "metadata": {},
   "outputs": [
    {
     "data": {
      "text/html": [
       "<div>\n",
       "<style scoped>\n",
       "    .dataframe tbody tr th:only-of-type {\n",
       "        vertical-align: middle;\n",
       "    }\n",
       "\n",
       "    .dataframe tbody tr th {\n",
       "        vertical-align: top;\n",
       "    }\n",
       "\n",
       "    .dataframe thead th {\n",
       "        text-align: right;\n",
       "    }\n",
       "</style>\n",
       "<table border=\"1\" class=\"dataframe\">\n",
       "  <thead>\n",
       "    <tr style=\"text-align: right;\">\n",
       "      <th></th>\n",
       "      <th>bibcode</th>\n",
       "      <th>title</th>\n",
       "      <th>abstract</th>\n",
       "      <th>verified_uat_ids</th>\n",
       "      <th>verified_uat_labels</th>\n",
       "    </tr>\n",
       "  </thead>\n",
       "  <tbody>\n",
       "    <tr>\n",
       "      <th>0</th>\n",
       "      <td>2020ApJ...891..100S</td>\n",
       "      <td>Dynamic Potential Sputtering of Lunar Analog M...</td>\n",
       "      <td>Pyroxenes ((Ca, Mg, Fe, Mn)&lt;SUB&gt;2&lt;/SUB&gt;Si&lt;SUB&gt;...</td>\n",
       "      <td>[1534, 499, 1692, 948, 1024, 2004]</td>\n",
       "      <td>[solar wind, exosphere, the moon, lunar compos...</td>\n",
       "    </tr>\n",
       "    <tr>\n",
       "      <th>1</th>\n",
       "      <td>2024ApJ...966L...8B</td>\n",
       "      <td>Generation of Low-inclination, Neptune-crossin...</td>\n",
       "      <td>The solar system's distant reaches exhibit a w...</td>\n",
       "      <td>[1705, 1184, 2293]</td>\n",
       "      <td>[trans-neptunian objects, orbits, solar system...</td>\n",
       "    </tr>\n",
       "  </tbody>\n",
       "</table>\n",
       "</div>"
      ],
      "text/plain": [
       "               bibcode                                              title  \\\n",
       "0  2020ApJ...891..100S  Dynamic Potential Sputtering of Lunar Analog M...   \n",
       "1  2024ApJ...966L...8B  Generation of Low-inclination, Neptune-crossin...   \n",
       "\n",
       "                                            abstract  \\\n",
       "0  Pyroxenes ((Ca, Mg, Fe, Mn)<SUB>2</SUB>Si<SUB>...   \n",
       "1  The solar system's distant reaches exhibit a w...   \n",
       "\n",
       "                     verified_uat_ids  \\\n",
       "0  [1534, 499, 1692, 948, 1024, 2004]   \n",
       "1                  [1705, 1184, 2293]   \n",
       "\n",
       "                                 verified_uat_labels  \n",
       "0  [solar wind, exosphere, the moon, lunar compos...  \n",
       "1  [trans-neptunian objects, orbits, solar system...  "
      ]
     },
     "execution_count": 21,
     "metadata": {},
     "output_type": "execute_result"
    }
   ],
   "source": [
    "df.head(2)"
   ]
  },
  {
   "cell_type": "markdown",
   "metadata": {},
   "source": [
    "Merge title and abstract into one single column called 'text'"
   ]
  },
  {
   "cell_type": "code",
   "execution_count": 22,
   "metadata": {},
   "outputs": [],
   "source": [
    "df = merge_title_abstract(df)"
   ]
  },
  {
   "cell_type": "markdown",
   "metadata": {},
   "source": [
    "Generate a set of label-ID pairs and the old-new IDs pairs for the modified IDs"
   ]
  },
  {
   "cell_type": "code",
   "execution_count": 23,
   "metadata": {},
   "outputs": [],
   "source": [
    "label_new_id, old_new_ids = generate_label_and_id_mappings(df)"
   ]
  },
  {
   "cell_type": "markdown",
   "metadata": {},
   "source": [
    "Applies ID mappings to the DataFrame to create a new column with remapped IDs"
   ]
  },
  {
   "cell_type": "code",
   "execution_count": 24,
   "metadata": {},
   "outputs": [],
   "source": [
    "df = apply_new_id_mapping(df,old_new_ids)"
   ]
  },
  {
   "cell_type": "markdown",
   "metadata": {},
   "source": [
    "Result :"
   ]
  },
  {
   "cell_type": "code",
   "execution_count": 25,
   "metadata": {},
   "outputs": [
    {
     "data": {
      "text/html": [
       "<div>\n",
       "<style scoped>\n",
       "    .dataframe tbody tr th:only-of-type {\n",
       "        vertical-align: middle;\n",
       "    }\n",
       "\n",
       "    .dataframe tbody tr th {\n",
       "        vertical-align: top;\n",
       "    }\n",
       "\n",
       "    .dataframe thead th {\n",
       "        text-align: right;\n",
       "    }\n",
       "</style>\n",
       "<table border=\"1\" class=\"dataframe\">\n",
       "  <thead>\n",
       "    <tr style=\"text-align: right;\">\n",
       "      <th></th>\n",
       "      <th>bibcode</th>\n",
       "      <th>title</th>\n",
       "      <th>abstract</th>\n",
       "      <th>verified_uat_ids</th>\n",
       "      <th>verified_uat_labels</th>\n",
       "      <th>text</th>\n",
       "      <th>new_ids</th>\n",
       "    </tr>\n",
       "  </thead>\n",
       "  <tbody>\n",
       "    <tr>\n",
       "      <th>0</th>\n",
       "      <td>2020ApJ...891..100S</td>\n",
       "      <td>Dynamic Potential Sputtering of Lunar Analog M...</td>\n",
       "      <td>Pyroxenes ((Ca, Mg, Fe, Mn)&lt;SUB&gt;2&lt;/SUB&gt;Si&lt;SUB&gt;...</td>\n",
       "      <td>[1534, 499, 1692, 948, 1024, 2004]</td>\n",
       "      <td>[solar wind, exosphere, the moon, lunar compos...</td>\n",
       "      <td>Dynamic Potential Sputtering of Lunar Analog M...</td>\n",
       "      <td>[1189, 371, 1316, 714, 772, 1575]</td>\n",
       "    </tr>\n",
       "    <tr>\n",
       "      <th>1</th>\n",
       "      <td>2024ApJ...966L...8B</td>\n",
       "      <td>Generation of Low-inclination, Neptune-crossin...</td>\n",
       "      <td>The solar system's distant reaches exhibit a w...</td>\n",
       "      <td>[1705, 1184, 2293]</td>\n",
       "      <td>[trans-neptunian objects, orbits, solar system...</td>\n",
       "      <td>Generation of Low-inclination, Neptune-crossin...</td>\n",
       "      <td>[1329, 909, 1827]</td>\n",
       "    </tr>\n",
       "  </tbody>\n",
       "</table>\n",
       "</div>"
      ],
      "text/plain": [
       "               bibcode                                              title  \\\n",
       "0  2020ApJ...891..100S  Dynamic Potential Sputtering of Lunar Analog M...   \n",
       "1  2024ApJ...966L...8B  Generation of Low-inclination, Neptune-crossin...   \n",
       "\n",
       "                                            abstract  \\\n",
       "0  Pyroxenes ((Ca, Mg, Fe, Mn)<SUB>2</SUB>Si<SUB>...   \n",
       "1  The solar system's distant reaches exhibit a w...   \n",
       "\n",
       "                     verified_uat_ids  \\\n",
       "0  [1534, 499, 1692, 948, 1024, 2004]   \n",
       "1                  [1705, 1184, 2293]   \n",
       "\n",
       "                                 verified_uat_labels  \\\n",
       "0  [solar wind, exosphere, the moon, lunar compos...   \n",
       "1  [trans-neptunian objects, orbits, solar system...   \n",
       "\n",
       "                                                text  \\\n",
       "0  Dynamic Potential Sputtering of Lunar Analog M...   \n",
       "1  Generation of Low-inclination, Neptune-crossin...   \n",
       "\n",
       "                             new_ids  \n",
       "0  [1189, 371, 1316, 714, 772, 1575]  \n",
       "1                  [1329, 909, 1827]  "
      ]
     },
     "execution_count": 25,
     "metadata": {},
     "output_type": "execute_result"
    }
   ],
   "source": [
    "df.head(2)"
   ]
  },
  {
   "cell_type": "markdown",
   "metadata": {},
   "source": [
    "### Define the rule :"
   ]
  },
  {
   "cell_type": "code",
   "execution_count": 26,
   "metadata": {},
   "outputs": [],
   "source": [
    "def rule_prediction1(df,label_new_id):\n",
    "    df_copy = df.copy()\n",
    "    nb_sample, _ = df_copy.shape\n",
    "    nb_id = len(label_new_id)\n",
    "    predictions = np.zeros((nb_sample,nb_id),dtype=int)\n",
    "    for k in range(nb_sample):\n",
    "        text = df_copy['text'].iloc[k]\n",
    "        text_lowercase = text.lower()\n",
    "        labels = list(label_new_id.keys())\n",
    "        for label in labels:\n",
    "            if label in text_lowercase:\n",
    "                id = label_new_id.get(label)\n",
    "                predictions[k][id] = 1\n",
    "    return predictions"
   ]
  },
  {
   "cell_type": "markdown",
   "metadata": {},
   "source": [
    "### Predict"
   ]
  },
  {
   "cell_type": "code",
   "execution_count": 27,
   "metadata": {},
   "outputs": [],
   "source": [
    "predictions = rule_prediction1(df,label_new_id)"
   ]
  },
  {
   "cell_type": "code",
   "execution_count": 28,
   "metadata": {},
   "outputs": [],
   "source": [
    "mlb = MultiLabelBinarizer()\n",
    "y_test_rule = df['verified_uat_labels']\n",
    "y_test_rule_matrix = mlb.fit_transform(y_test_rule)"
   ]
  },
  {
   "cell_type": "markdown",
   "metadata": {},
   "source": [
    "## Results :"
   ]
  },
  {
   "cell_type": "markdown",
   "metadata": {},
   "source": [
    "F1 score"
   ]
  },
  {
   "cell_type": "code",
   "execution_count": 29,
   "metadata": {},
   "outputs": [
    {
     "name": "stdout",
     "output_type": "stream",
     "text": [
      "Exact Match f1_score : 0.012079949689174066\n"
     ]
    }
   ],
   "source": [
    "f1 = f1_score(y_test_rule_matrix, predictions,average='samples')\n",
    "print(\"Exact Match f1_score :\", f1)"
   ]
  },
  {
   "cell_type": "markdown",
   "metadata": {},
   "source": [
    "Hamming loss"
   ]
  },
  {
   "cell_type": "code",
   "execution_count": 30,
   "metadata": {},
   "outputs": [
    {
     "name": "stdout",
     "output_type": "stream",
     "text": [
      "Exact Match hamming_loss : 0.005164829432633973\n"
     ]
    }
   ],
   "source": [
    "loss = hamming_loss(y_test_rule_matrix, predictions)\n",
    "print(\"Exact Match hamming_loss :\", loss)"
   ]
  },
  {
   "cell_type": "markdown",
   "metadata": {},
   "source": [
    "Accuracy_score"
   ]
  },
  {
   "cell_type": "code",
   "execution_count": 31,
   "metadata": {},
   "outputs": [
    {
     "name": "stdout",
     "output_type": "stream",
     "text": [
      "Exact Match accuracy : 0.0\n"
     ]
    }
   ],
   "source": [
    "accuracy = accuracy_score(y_test_rule_matrix, predictions)\n",
    "print(\"Exact Match accuracy :\", accuracy)"
   ]
  },
  {
   "cell_type": "markdown",
   "metadata": {},
   "source": [
    "Precision_score"
   ]
  },
  {
   "cell_type": "code",
   "execution_count": 32,
   "metadata": {},
   "outputs": [
    {
     "name": "stdout",
     "output_type": "stream",
     "text": [
      "Exact Match precision_score : 0.011787910088296022\n"
     ]
    },
    {
     "name": "stderr",
     "output_type": "stream",
     "text": [
      "C:\\Users\\reali\\AppData\\Local\\Packages\\PythonSoftwareFoundation.Python.3.11_qbz5n2kfra8p0\\LocalCache\\local-packages\\Python311\\site-packages\\sklearn\\metrics\\_classification.py:1509: UndefinedMetricWarning: Precision is ill-defined and being set to 0.0 in samples with no predicted labels. Use `zero_division` parameter to control this behavior.\n",
      "  _warn_prf(average, modifier, f\"{metric.capitalize()} is\", len(result))\n"
     ]
    }
   ],
   "source": [
    "precision = precision_score(y_test_rule_matrix, predictions,average='samples')\n",
    "print(\"Exact Match precision_score :\", precision)"
   ]
  }
 ],
 "metadata": {
  "kernelspec": {
   "display_name": "Python 3",
   "language": "python",
   "name": "python3"
  },
  "language_info": {
   "codemirror_mode": {
    "name": "ipython",
    "version": 3
   },
   "file_extension": ".py",
   "mimetype": "text/x-python",
   "name": "python",
   "nbconvert_exporter": "python",
   "pygments_lexer": "ipython3",
   "version": "3.11.9"
  }
 },
 "nbformat": 4,
 "nbformat_minor": 2
}
